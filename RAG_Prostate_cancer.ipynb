{
  "nbformat": 4,
  "nbformat_minor": 0,
  "metadata": {
    "colab": {
      "provenance": [],
      "authorship_tag": "ABX9TyOoY83pPFRRXwTiaKC41+eT",
      "include_colab_link": true
    },
    "kernelspec": {
      "name": "python3",
      "display_name": "Python 3"
    },
    "language_info": {
      "name": "python"
    }
  },
  "cells": [
    {
      "cell_type": "markdown",
      "metadata": {
        "id": "view-in-github",
        "colab_type": "text"
      },
      "source": [
        "<a href=\"https://colab.research.google.com/github/mellobo05/AI-LLM/blob/main/RAG_Prostate_cancer.ipynb\" target=\"_parent\"><img src=\"https://colab.research.google.com/assets/colab-badge.svg\" alt=\"Open In Colab\"/></a>"
      ]
    },
    {
      "cell_type": "code",
      "source": [
        "#Make sure you have installed dotenv, langchain_community, langchain_google_genai, pypdf\n",
        "from google.colab import drive\n",
        "drive.mount('/content/drive')\n",
        "\n",
        "pdf_path = '/content/drive/My Drive/Colab Notebooks/chandraprakash-merged.pdf'\n"
      ],
      "metadata": {
        "colab": {
          "base_uri": "https://localhost:8080/"
        },
        "id": "lyC9XWnjSl4K",
        "outputId": "d17b91b3-1a2c-478b-fc47-4fa374ee14ac"
      },
      "execution_count": 14,
      "outputs": [
        {
          "output_type": "stream",
          "name": "stdout",
          "text": [
            "Drive already mounted at /content/drive; to attempt to forcibly remount, call drive.mount(\"/content/drive\", force_remount=True).\n"
          ]
        }
      ]
    },
    {
      "cell_type": "code",
      "execution_count": 20,
      "metadata": {
        "colab": {
          "base_uri": "https://localhost:8080/",
          "height": 547
        },
        "id": "QSZT7-WlPQmN",
        "outputId": "72c2ef68-d2ae-434f-dfa6-5975f0bbbd07"
      },
      "outputs": [
        {
          "output_type": "stream",
          "name": "stderr",
          "text": [
            "/usr/local/lib/python3.11/dist-packages/langsmith/client.py:272: LangSmithMissingAPIKeyWarning: API key must be provided when using hosted LangSmith API\n",
            "  warnings.warn(\n"
          ]
        },
        {
          "output_type": "stream",
          "name": "stdout",
          "text": [
            "\n",
            "✅ PDF loaded, cleaned, and indexed. You can now ask questions.\n",
            "Example: 'Latest PSA result for Chandraprakash'\n",
            "\n",
            "What would you like to know? Latest PSA result\n",
            "\n",
            "--- Answer ---\n",
            " Latest PSA result: 11.440 ng/mL on 11/7/2025 \n",
            "\n"
          ]
        },
        {
          "output_type": "error",
          "ename": "KeyboardInterrupt",
          "evalue": "Interrupted by user",
          "traceback": [
            "\u001b[0;31m---------------------------------------------------------------------------\u001b[0m",
            "\u001b[0;31mKeyboardInterrupt\u001b[0m                         Traceback (most recent call last)",
            "\u001b[0;32m/tmp/ipython-input-3054209523.py\u001b[0m in \u001b[0;36m<cell line: 0>\u001b[0;34m()\u001b[0m\n\u001b[1;32m    125\u001b[0m \u001b[0;34m\u001b[0m\u001b[0m\n\u001b[1;32m    126\u001b[0m \u001b[0;32mwhile\u001b[0m \u001b[0;32mTrue\u001b[0m\u001b[0;34m:\u001b[0m\u001b[0;34m\u001b[0m\u001b[0;34m\u001b[0m\u001b[0m\n\u001b[0;32m--> 127\u001b[0;31m     \u001b[0muser_query\u001b[0m \u001b[0;34m=\u001b[0m \u001b[0minput\u001b[0m\u001b[0;34m(\u001b[0m\u001b[0;34m\"What would you like to know? \"\u001b[0m\u001b[0;34m)\u001b[0m\u001b[0;34m.\u001b[0m\u001b[0mstrip\u001b[0m\u001b[0;34m(\u001b[0m\u001b[0;34m)\u001b[0m\u001b[0;34m\u001b[0m\u001b[0;34m\u001b[0m\u001b[0m\n\u001b[0m\u001b[1;32m    128\u001b[0m     \u001b[0;32mif\u001b[0m \u001b[0muser_query\u001b[0m\u001b[0;34m.\u001b[0m\u001b[0mlower\u001b[0m\u001b[0;34m(\u001b[0m\u001b[0;34m)\u001b[0m \u001b[0;32min\u001b[0m \u001b[0;34m[\u001b[0m\u001b[0;34m\"exit\"\u001b[0m\u001b[0;34m,\u001b[0m \u001b[0;34m\"quit\"\u001b[0m\u001b[0;34m]\u001b[0m\u001b[0;34m:\u001b[0m\u001b[0;34m\u001b[0m\u001b[0;34m\u001b[0m\u001b[0m\n\u001b[1;32m    129\u001b[0m         \u001b[0;32mbreak\u001b[0m\u001b[0;34m\u001b[0m\u001b[0;34m\u001b[0m\u001b[0m\n",
            "\u001b[0;32m/usr/local/lib/python3.11/dist-packages/ipykernel/kernelbase.py\u001b[0m in \u001b[0;36mraw_input\u001b[0;34m(self, prompt)\u001b[0m\n\u001b[1;32m   1175\u001b[0m                 \u001b[0;34m\"raw_input was called, but this frontend does not support input requests.\"\u001b[0m\u001b[0;34m\u001b[0m\u001b[0;34m\u001b[0m\u001b[0m\n\u001b[1;32m   1176\u001b[0m             )\n\u001b[0;32m-> 1177\u001b[0;31m         return self._input_request(\n\u001b[0m\u001b[1;32m   1178\u001b[0m             \u001b[0mstr\u001b[0m\u001b[0;34m(\u001b[0m\u001b[0mprompt\u001b[0m\u001b[0;34m)\u001b[0m\u001b[0;34m,\u001b[0m\u001b[0;34m\u001b[0m\u001b[0;34m\u001b[0m\u001b[0m\n\u001b[1;32m   1179\u001b[0m             \u001b[0mself\u001b[0m\u001b[0;34m.\u001b[0m\u001b[0m_parent_ident\u001b[0m\u001b[0;34m[\u001b[0m\u001b[0;34m\"shell\"\u001b[0m\u001b[0;34m]\u001b[0m\u001b[0;34m,\u001b[0m\u001b[0;34m\u001b[0m\u001b[0;34m\u001b[0m\u001b[0m\n",
            "\u001b[0;32m/usr/local/lib/python3.11/dist-packages/ipykernel/kernelbase.py\u001b[0m in \u001b[0;36m_input_request\u001b[0;34m(self, prompt, ident, parent, password)\u001b[0m\n\u001b[1;32m   1217\u001b[0m             \u001b[0;32mexcept\u001b[0m \u001b[0mKeyboardInterrupt\u001b[0m\u001b[0;34m:\u001b[0m\u001b[0;34m\u001b[0m\u001b[0;34m\u001b[0m\u001b[0m\n\u001b[1;32m   1218\u001b[0m                 \u001b[0;31m# re-raise KeyboardInterrupt, to truncate traceback\u001b[0m\u001b[0;34m\u001b[0m\u001b[0;34m\u001b[0m\u001b[0m\n\u001b[0;32m-> 1219\u001b[0;31m                 \u001b[0;32mraise\u001b[0m \u001b[0mKeyboardInterrupt\u001b[0m\u001b[0;34m(\u001b[0m\u001b[0;34m\"Interrupted by user\"\u001b[0m\u001b[0;34m)\u001b[0m \u001b[0;32mfrom\u001b[0m \u001b[0;32mNone\u001b[0m\u001b[0;34m\u001b[0m\u001b[0;34m\u001b[0m\u001b[0m\n\u001b[0m\u001b[1;32m   1220\u001b[0m             \u001b[0;32mexcept\u001b[0m \u001b[0mException\u001b[0m\u001b[0;34m:\u001b[0m\u001b[0;34m\u001b[0m\u001b[0;34m\u001b[0m\u001b[0m\n\u001b[1;32m   1221\u001b[0m                 \u001b[0mself\u001b[0m\u001b[0;34m.\u001b[0m\u001b[0mlog\u001b[0m\u001b[0;34m.\u001b[0m\u001b[0mwarning\u001b[0m\u001b[0;34m(\u001b[0m\u001b[0;34m\"Invalid Message:\"\u001b[0m\u001b[0;34m,\u001b[0m \u001b[0mexc_info\u001b[0m\u001b[0;34m=\u001b[0m\u001b[0;32mTrue\u001b[0m\u001b[0;34m)\u001b[0m\u001b[0;34m\u001b[0m\u001b[0;34m\u001b[0m\u001b[0m\n",
            "\u001b[0;31mKeyboardInterrupt\u001b[0m: Interrupted by user"
          ]
        }
      ],
      "source": [
        "import os\n",
        "from dotenv import load_dotenv\n",
        "from langchain_community.document_loaders import PyPDFLoader\n",
        "from langchain_google_genai import ChatGoogleGenerativeAI, GoogleGenerativeAIEmbeddings\n",
        "from langchain_text_splitters import RecursiveCharacterTextSplitter\n",
        "from langchain_core.vectorstores import InMemoryVectorStore\n",
        "from langchain.prompts import PromptTemplate\n",
        "from langchain import hub\n",
        "from datetime import datetime\n",
        "from google.colab import userdata\n",
        "import re\n",
        "\n",
        "\n",
        "# Load environment variables (although using userdata is preferred in Colab)\n",
        "load_dotenv()\n",
        "\n",
        "# Correctly retrieve the API key from Colab Secrets\n",
        "GOOGLE_API_KEY=userdata.get('GOOGLE_API_KEY')\n",
        "# Ensure the API key is set as an environment variable for langchain to pick it up\n",
        "os.environ['GOOGLE_API_KEY'] = GOOGLE_API_KEY\n",
        "\n",
        "# ====== LLM & PROMPT ======\n",
        "llm = ChatGoogleGenerativeAI(model=\"gemini-2.0-flash\")\n",
        "qa_prompt = hub.pull('langchain-ai/retrieval-qa-chat')\n",
        "#Create vector embedding\n",
        "embedding_model = GoogleGenerativeAIEmbeddings(model=\"models/embedding-001\")\n",
        "\n",
        "#Load the pdf document into document object (by default it will create one document per page)\n",
        "#Split the document into smaller chunks for better processing\n",
        "#Create embedding for the document chunks\n",
        "#Create a in memory vector store to hold the document chunks and their embedding\n",
        "#Perform a similarity search in the vector store to retrieve relavent documents\n",
        "#Invoke the chain with the context and user query\n",
        "\n",
        "#pdf_loader = PyPDFLoader(pdf_path)\n",
        "#documents = pdf_loader.load()\n",
        "#print(documents)\n",
        "\n",
        "# ====== TEXT CLEANING FUNCTION ======\n",
        "def clean_text(text):\n",
        "    # Remove excessive newlines\n",
        "    text = text.replace(\"\\n\", \" \").strip()\n",
        "    # Remove random all-caps gibberish (base64-like)\n",
        "    text = re.sub(r'\\b[A-Z0-9]{8,}\\b', '', text)\n",
        "    # Collapse multiple spaces\n",
        "    text = re.sub(r'\\s+', ' ', text)\n",
        "    return text\n",
        "\n",
        "# ====== LOAD & CLEAN PDF ======\n",
        "pdf_loader = PyPDFLoader(pdf_path)\n",
        "documents = pdf_loader.load()\n",
        "\n",
        "# Clean and filter blank pages\n",
        "cleaned_docs = []\n",
        "for doc in documents:\n",
        "    txt = clean_text(doc.page_content)\n",
        "    if len(txt) > 30:  # skip empty or useless pages\n",
        "        doc.page_content = txt\n",
        "        cleaned_docs.append(doc)\n",
        "\n",
        "# ====== SPLIT INTO CHUNKS ======\n",
        "text_splitter = RecursiveCharacterTextSplitter(chunk_size=500, chunk_overlap=50)\n",
        "split_documents = text_splitter.split_documents(documents)\n",
        "\n",
        "# ====== CREATE VECTOR STORE ======\n",
        "vector_store = InMemoryVectorStore(embedding=embedding_model)\n",
        "vector_store.add_documents(split_documents)\n",
        "\n",
        "# ===== Custom Prompt =====\n",
        "qa_prompt = PromptTemplate(\n",
        "    input_variables=[\"context\", \"question\"],\n",
        "    template=\"\"\"\n",
        "You are a helpful assistant. Use the following extracted text from a medical report to answer the question.\n",
        "If the answer is not explicitly in the text, say \"Not found in the document.\"\n",
        "\n",
        "Context:\n",
        "{context}\n",
        "\n",
        "Question:\n",
        "{question}\n",
        "\n",
        "Answer:\n",
        "\"\"\"\n",
        ")\n",
        "\n",
        "# ===== Function: Extract PSA with Dates =====\n",
        "def extract_latest_psa(chunks):\n",
        "    psa_records = []\n",
        "    date_pattern = r\"\\b(\\d{1,2}/\\d{1,2}/\\d{4})\\b\"\n",
        "    psa_pattern = r\"PSA.*?ng/mL\\s*([\\d.]+)\"  # Fixed regex\n",
        "\n",
        "    for doc in chunks:\n",
        "        text = doc.page_content\n",
        "        date_match = re.search(date_pattern, text)\n",
        "        psa_match = re.search(psa_pattern, text, re.IGNORECASE)\n",
        "        if psa_match:\n",
        "            date_str = date_match.group(1) if date_match else None\n",
        "            psa_value = psa_match.group(1)\n",
        "            psa_records.append((date_str, psa_value, text))\n",
        "\n",
        "    # Sort by date if present\n",
        "    def parse_date(d):\n",
        "        try:\n",
        "            return datetime.strptime(d, \"%d/%m/%Y\")\n",
        "        except:\n",
        "            return datetime.min\n",
        "\n",
        "    if psa_records:\n",
        "        psa_records.sort(key=lambda x: parse_date(x[0]), reverse=True)\n",
        "        latest = psa_records[0]\n",
        "        return f\"Latest PSA result: {latest[1]} ng/mL on {latest[0]}\" if latest[0] else f\"Latest PSA result: {latest[1]} ng/mL\"\n",
        "    return None\n",
        "\n",
        "# ===== Keyword-first Retrieval =====\n",
        "def find_relevant_chunks(user_query):\n",
        "    keyword = \"psa\"\n",
        "    psa_chunks = [doc for doc in split_documents if keyword in doc.page_content.lower()]\n",
        "    if psa_chunks:\n",
        "        return psa_chunks\n",
        "    return vector_store.similarity_search(user_query, k=4)\n",
        "\n",
        "# ===== Main Loop =====\n",
        "print(\"\\n✅ PDF loaded, cleaned, and indexed. You can now ask questions.\")\n",
        "print(\"Example: 'Latest PSA result for Chandraprakash'\\n\")\n",
        "\n",
        "while True:\n",
        "    user_query = input(\"What would you like to know? \").strip()\n",
        "    if user_query.lower() in [\"exit\", \"quit\"]:\n",
        "        break\n",
        "\n",
        "    user_query = re.sub(r\"chandraprash\", \"chandraprakash\", user_query, flags=re.I)\n",
        "\n",
        "    docs = find_relevant_chunks(user_query)\n",
        "\n",
        "    # Special handling if query asks for latest PSA\n",
        "    if \"latest\" in user_query.lower() and \"psa\" in user_query.lower():\n",
        "        latest = extract_latest_psa(docs)\n",
        "        if latest:\n",
        "            print(\"\\n--- Answer ---\\n\", latest, \"\\n\")\n",
        "            continue\n",
        "\n",
        "    context = \"\\n\\n\".join([doc.page_content for doc in docs])\n",
        "    final_prompt = qa_prompt.format(context=context, question=user_query)\n",
        "    response = llm.invoke(final_prompt)\n",
        "    print(\"\\n--- Answer ---\\n\", response.content, \"\\n\")"
      ]
    },
    {
      "cell_type": "code",
      "source": [
        "pip install dotenv"
      ],
      "metadata": {
        "colab": {
          "base_uri": "https://localhost:8080/"
        },
        "id": "zkSSsMFcQBZN",
        "outputId": "98713eda-9d4f-48ac-d3c2-6dd3a76200b3"
      },
      "execution_count": 5,
      "outputs": [
        {
          "output_type": "stream",
          "name": "stdout",
          "text": [
            "Requirement already satisfied: dotenv in /usr/local/lib/python3.11/dist-packages (0.9.9)\n",
            "Requirement already satisfied: python-dotenv in /usr/local/lib/python3.11/dist-packages (from dotenv) (1.1.1)\n"
          ]
        }
      ]
    },
    {
      "cell_type": "code",
      "source": [],
      "metadata": {
        "id": "K7plUcI4QF25"
      },
      "execution_count": null,
      "outputs": []
    },
    {
      "cell_type": "code",
      "metadata": {
        "colab": {
          "base_uri": "https://localhost:8080/"
        },
        "id": "15d7687f",
        "outputId": "305b13b6-eb87-4e6e-ade9-0d38c46f126e"
      },
      "source": [
        "!pip install pypdf"
      ],
      "execution_count": 11,
      "outputs": [
        {
          "output_type": "stream",
          "name": "stdout",
          "text": [
            "Collecting pypdf\n",
            "  Downloading pypdf-5.9.0-py3-none-any.whl.metadata (7.1 kB)\n",
            "Downloading pypdf-5.9.0-py3-none-any.whl (313 kB)\n",
            "\u001b[2K   \u001b[90m━━━━━━━━━━━━━━━━━━━━━━━━━━━━━━━━━━━━━━━━\u001b[0m \u001b[32m313.2/313.2 kB\u001b[0m \u001b[31m6.0 MB/s\u001b[0m eta \u001b[36m0:00:00\u001b[0m\n",
            "\u001b[?25hInstalling collected packages: pypdf\n",
            "Successfully installed pypdf-5.9.0\n"
          ]
        }
      ]
    }
  ]
}